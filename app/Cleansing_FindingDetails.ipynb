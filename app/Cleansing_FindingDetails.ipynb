{
 "cells": [
  {
   "cell_type": "code",
   "execution_count": 1,
   "metadata": {},
   "outputs": [
    {
     "name": "stdout",
     "output_type": "stream",
     "text": [
      "c:\\SMIT3.0\n"
     ]
    }
   ],
   "source": [
    "cd .."
   ]
  },
  {
   "cell_type": "code",
   "execution_count": 2,
   "metadata": {},
   "outputs": [],
   "source": [
    "from deep_translator import GoogleTranslator               \n",
    "from Function import *                       \n",
    "import pandas as pd                                        \n",
    "import pyodbc                                              \n",
    "import re                                                  \n",
    "from sentence_transformers import SentenceTransformer, util"
   ]
  },
  {
   "cell_type": "code",
   "execution_count": 3,
   "metadata": {},
   "outputs": [
    {
     "name": "stderr",
     "output_type": "stream",
     "text": [
      "C:\\Users\\User\\AppData\\Local\\Packages\\PythonSoftwareFoundation.Python.3.10_qbz5n2kfra8p0\\LocalCache\\local-packages\\Python310\\site-packages\\pandas\\io\\sql.py:758: UserWarning: pandas only support SQLAlchemy connectable(engine/connection) ordatabase string URI or sqlite3 DBAPI2 connectionother DBAPI2 objects are not tested, please consider using SQLAlchemy\n",
      "  warnings.warn(\n"
     ]
    }
   ],
   "source": [
    "modelPath = \"./Model/SentenceTransformer\"\n",
    "\n",
    "model = SentenceTransformer(modelPath)\n",
    "\n",
    "# Real Database Connection\n",
    "# connect_db = pyodbc.connect(Driver = \"ODBC Driver 17 for SQL Server\",\n",
    "#                             Server = \"TONY\",\n",
    "#                             Database = \"SMIT3\",\n",
    "#                             uid = 'Local_SMIT3.0',\n",
    "#                             pwd = 'Tony123456',\n",
    "#                             Trusted_Connection = 'yes')  \n",
    "\n",
    "connect_db = pyodbc.connect(Driver = \"ODBC Driver 17 for SQL Server\",\n",
    "                            Server = \"TONY\",\n",
    "                            Database = \"SMIT3\",\n",
    "                            uid = 'Local_SMIT3.0',\n",
    "                            pwd = 'Tony123456',\n",
    "                            Trusted_Connection = 'yes')  \n",
    "\n",
    "cursor = connect_db.cursor()\n",
    "\n",
    "TotalData = (pd.read_csv('./SMIT_Data/TotalData.csv', encoding='utf-8'))\n",
    "\n",
    "TotalOldFindingDetails = TotalData['Old'].tolist()[0]\n",
    "\n",
    "FindingDetails = pd.read_sql(\"SELECT * FROM [FindingDetails] WHERE FindingNo > \"+str(TotalOldFindingDetails), connect_db)\n",
    "\n",
    "# SA_FindingNo = FindingDetails['FindingNo'].tolist()\n",
    "# SA_FindingNo = [\"-\" if pd.isnull(x) else x for x in SA_FindingNo]\n",
    "\n",
    "SA_Area = FindingDetails['Area'].tolist()\n",
    "SA_Area = [\"-\" if pd.isnull(x) else x for x in SA_Area]\n",
    "\n",
    "SA_SubArea = FindingDetails['SubArea'].tolist()\n",
    "SA_SubArea = [\"-\" if pd.isnull(x) else x for x in SA_SubArea]\n",
    "\n",
    "SA_Contractor = FindingDetails['Contractor'].tolist()\n",
    "SA_Contractor = [\"-\" if pd.isnull(x) else x for x in SA_Contractor]\n",
    "\n",
    "SA_Tof = FindingDetails['TypeOfFinding'].tolist()\n",
    "SA_Tof = [\"-\" if pd.isnull(x) else x for x in SA_Tof]\n",
    "\n",
    "SA_Topic = FindingDetails['Topic'].tolist()\n",
    "SA_Topic = [\"-\" if pd.isnull(x) else x for x in SA_Topic]\n",
    "\n",
    "SA_Details = FindingDetails['Details'].tolist()\n",
    "SA_Details = [\"-\" if pd.isnull(x) else x for x in SA_Details]\n",
    "\n",
    "# ------------------------------------------------------------------- #\n",
    "\n",
    "# Classification_TbFinding = pd.read_sql(\"SELECT * FROM [Classification_TbFinding];\", connect_db)\n",
    "\n",
    "# CTB_FindingNo = Classification_TbFinding['FindingNo'].tolist()\n",
    "# CTB_FindingNo = [\"-\" if pd.isnull(x) else x for x in CTB_FindingNo]\n",
    "\n",
    "# CTB_Area = Classification_TbFinding['Area'].tolist()\n",
    "# CTB_Area = [\"-\" if pd.isnull(x) else x for x in CTB_Area]\n",
    "\n",
    "# CTB_SubArea = Classification_TbFinding['SubArea'].tolist()\n",
    "# CTB_SubArea = [\"-\" if pd.isnull(x) else x for x in CTB_SubArea]\n",
    "\n",
    "# CTB_Contractor = Classification_TbFinding['Contractor'].tolist()\n",
    "# CTB_Contractor = [\"-\" if pd.isnull(x) else x for x in CTB_Contractor]\n",
    "\n",
    "# CTB_Tof = Classification_TbFinding['TypeOfFinding'].tolist()\n",
    "# CTB_Tof = [\"-\" if pd.isnull(x) else x for x in CTB_Tof]\n",
    "\n",
    "# CTB_Topic = Classification_TbFinding['Topic'].tolist()\n",
    "# CTB_Topic = [\"-\" if pd.isnull(x) else x for x in CTB_Topic]\n",
    "\n",
    "# CTB_Details = Classification_TbFinding['Details'].tolist()\n",
    "# CTB_Details = [\"-\" if pd.isnull(x) else x for x in CTB_Details]\n",
    "\n",
    "# ------------------------------------------------------------------- #\n",
    "\n",
    "# AUDITResult = pd.read_sql(\"SELECT * FROM [AUDITResult];\", connect_db)\n",
    "\n",
    "# AR_FindingNo = AUDITResult['FindingNo'].tolist()\n",
    "# AR_FindingNo = [\"-\" if pd.isnull(x) else x for x in AR_FindingNo]\n",
    "\n",
    "# AR_Area = AUDITResult['Area'].tolist()\n",
    "# AR_Area = [\"-\" if pd.isnull(x) else x for x in AR_Area]\n",
    "\n",
    "# AR_SubArea = AUDITResult['SubArea'].tolist()\n",
    "# AR_SubArea = [\"-\" if pd.isnull(x) else x for x in AR_SubArea]\n",
    "\n",
    "# AR_Contractor = AUDITResult['Contractor'].tolist()\n",
    "# AR_Contractor = [\"-\" if pd.isnull(x) else x for x in AR_Contractor]\n",
    "\n",
    "# AR_Tof = AUDITResult['TypeOfFinding'].tolist()\n",
    "# AR_Tof = [\"-\" if pd.isnull(x) else x for x in AR_Tof]\n",
    "\n",
    "# AR_Topic = AUDITResult['Topic'].tolist()\n",
    "# AR_Topic = [\"-\" if pd.isnull(x) else x for x in AR_Topic]\n",
    "\n",
    "# AR_Details = AUDITResult['Details'].tolist()\n",
    "# AR_Details = [\"-\" if pd.isnull(x) else x for x in AR_Details]\n",
    "\n",
    "# ------------------------------------------------------------------- #\n",
    "\n",
    "# DataSize = len(SA_Details+CTB_Details+AR_Details)\n",
    "\n",
    "# Data_FindingNo = [i for i in range(1, DataSize+1)]\n",
    "\n",
    "# Data_Area = SA_Area+CTB_Area+AR_Area\n",
    "\n",
    "# Data_SubArea = SA_SubArea+CTB_SubArea+AR_SubArea\n",
    "\n",
    "# Data_Contractor = SA_Contractor+CTB_Contractor+AR_Contractor\n",
    "\n",
    "# Data_Tof = SA_Tof+CTB_Tof+AR_Tof\n",
    "\n",
    "# Data_Topic = SA_Topic+CTB_Topic+AR_Topic\n",
    "\n",
    "# Data_Details = SA_Details+CTB_Details+AR_Details\n",
    "\n",
    "# ------------ Test ------------\n",
    "\n",
    "DataSize = len(SA_Details)\n",
    "\n",
    "Data_FindingNo = [i for i in range(TotalOldFindingDetails+1, TotalOldFindingDetails+DataSize+1)]\n",
    "\n",
    "Data_Area = SA_Area\n",
    "\n",
    "Data_SubArea = SA_SubArea\n",
    "\n",
    "Data_Contractor = SA_Contractor\n",
    "\n",
    "Data_Tof = SA_Tof\n",
    "\n",
    "Data_Topic = SA_Topic\n",
    "\n",
    "Data_Details = SA_Details"
   ]
  },
  {
   "cell_type": "code",
   "execution_count": null,
   "metadata": {},
   "outputs": [],
   "source": [
    "print(TotalOldFindingDetails)"
   ]
  },
  {
   "cell_type": "code",
   "execution_count": 24,
   "metadata": {},
   "outputs": [],
   "source": [
    "Data_TransDetails = []\n",
    "Data_CleansingDetails = []\n",
    "\n",
    "for index in range(len(Data_Details)):\n",
    "  ResponseSpellCheck = Cleansing_Input(Data_Details[index], 2)\n",
    "  Data_CleansingDetails.append(ResponseSpellCheck['Collected_Input'])\n",
    "  Data_TransDetails.append(GoogleTranslator(source='auto', target='en').translate(ResponseSpellCheck['Collected_Input']))"
   ]
  },
  {
   "cell_type": "code",
   "execution_count": 25,
   "metadata": {},
   "outputs": [],
   "source": [
    "Data_FindingNo = sorted(Data_FindingNo, reverse=False)\n",
    "Data_Area = [frequency for _, frequency in sorted(zip(Data_FindingNo, Data_Area), reverse=False)]\n",
    "Data_SubArea = [frequency for _, frequency in sorted(zip(Data_FindingNo, Data_SubArea), reverse=False)]\n",
    "Data_Contractor = [frequency for _, frequency in sorted(zip(Data_FindingNo, Data_Contractor), reverse=False)]\n",
    "Data_Tof = [frequency for _, frequency in sorted(zip(Data_FindingNo, Data_Tof), reverse=False)]\n",
    "Data_Topic = [frequency for _, frequency in sorted(zip(Data_FindingNo, Data_Topic), reverse=False)]\n",
    "Data_Details = [frequency for _, frequency in sorted(zip(Data_FindingNo, Data_Details), reverse=False)]\n",
    "Data_CleansingDetails = [frequency for _, frequency in sorted(zip(Data_FindingNo, Data_CleansingDetails), reverse=False)]\n",
    "Data_TransDetails = [frequency for _, frequency in sorted(zip(Data_FindingNo, Data_TransDetails), reverse=False)]"
   ]
  },
  {
   "cell_type": "code",
   "execution_count": 7,
   "metadata": {},
   "outputs": [
    {
     "name": "stdout",
     "output_type": "stream",
     "text": [
      "3325\n",
      "3325\n"
     ]
    }
   ],
   "source": [
    "print(len(Data_CleansingDetails))\n",
    "print(len(Data_Details))"
   ]
  },
  {
   "cell_type": "code",
   "execution_count": 35,
   "metadata": {},
   "outputs": [
    {
     "name": "stderr",
     "output_type": "stream",
     "text": [
      "C:\\Users\\User\\AppData\\Local\\Packages\\PythonSoftwareFoundation.Python.3.10_qbz5n2kfra8p0\\LocalCache\\local-packages\\Python310\\site-packages\\pandas\\io\\sql.py:758: UserWarning: pandas only support SQLAlchemy connectable(engine/connection) ordatabase string URI or sqlite3 DBAPI2 connectionother DBAPI2 objects are not tested, please consider using SQLAlchemy\n",
      "  warnings.warn(\n"
     ]
    }
   ],
   "source": [
    "import csv\n",
    "\n",
    "Translate_Cleansing_Safety_Audit = []\n",
    "\n",
    "connect_db = pyodbc.connect(Driver = \"ODBC Driver 17 for SQL Server\",\n",
    "                            Server = \"TONY\",\n",
    "                            Database = \"SMIT3-Real\",\n",
    "                            uid = 'Local_SMIT3.0',\n",
    "                            pwd = 'Tony123456',\n",
    "                            Trusted_Connection = 'yes')  \n",
    "\n",
    "NewSafetyAuditData = list(zip(Data_FindingNo, Data_Area, Data_SubArea, \n",
    "                                Data_Contractor, Data_Tof, Data_Topic,\n",
    "                                Data_Details, Data_CleansingDetails, Data_TransDetails))\n",
    "\n",
    "if len(NewSafetyAuditData) > 0: \n",
    "    cursor = connect_db.cursor()\n",
    "    Query = \"INSERT INTO [Cleansing_FindingDetails] VALUES (?, ?, ?, ?, ?, ?, ?, ?, ?)\"\n",
    "    cursor.executemany(Query, NewSafetyAuditData)\n",
    "    connect_db.commit()\n",
    "\n",
    "    TotalData = (pd.read_csv('./SMIT_Data/TotalData.csv', encoding='utf-8'))\n",
    "\n",
    "    TotalOldFindingDetails = TotalData['Old'].tolist()[0]\n",
    "\n",
    "    # print(TotalOldFindingDetails)\n",
    "    Latest_Size = len(Data_FindingNo)+int(TotalOldFindingDetails)\n",
    "\n",
    "    Head = ['Source', 'Old', 'Latest']\n",
    "\n",
    "    UpdateSize = ['FindingDetails', Latest_Size, Latest_Size]\n",
    "\n",
    "    with open('./SMIT_Data/TotalData.csv', 'w', newline='', encoding=\"utf-8\") as f:\n",
    "    write = csv.writer(f)\n",
    "    write.writerow(Head)\n",
    "    write.writerow(UpdateSize)"
   ]
  },
  {
   "cell_type": "code",
   "execution_count": null,
   "metadata": {},
   "outputs": [],
   "source": [
    "NewSafetyAuditData = list(zip(Data_FindingNo, Data_Area, Data_SubArea, \n",
    "                              Data_Contractor, Data_Tof, Data_Topic, \n",
    "                              Data_Details))\n",
    "\n",
    "Remain_NewSafetyAuditData = [Data_FindingNo[x] for x in range(0, len(NewSafetyAuditData))]"
   ]
  }
 ],
 "metadata": {
  "kernelspec": {
   "display_name": "Python 3.10.8 64-bit (microsoft store)",
   "language": "python",
   "name": "python3"
  },
  "language_info": {
   "codemirror_mode": {
    "name": "ipython",
    "version": 3
   },
   "file_extension": ".py",
   "mimetype": "text/x-python",
   "name": "python",
   "nbconvert_exporter": "python",
   "pygments_lexer": "ipython3",
   "version": "3.10.8"
  },
  "orig_nbformat": 4,
  "vscode": {
   "interpreter": {
    "hash": "3b7e9cb8e453d6cda0fe8c8dd13f891a1f09162f0e7c66ffeae7751a7aecf00d"
   }
  }
 },
 "nbformat": 4,
 "nbformat_minor": 2
}

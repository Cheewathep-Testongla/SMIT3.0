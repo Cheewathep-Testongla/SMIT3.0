{
 "cells": [
  {
   "cell_type": "code",
   "execution_count": 12,
   "metadata": {},
   "outputs": [
    {
     "name": "stdout",
     "output_type": "stream",
     "text": [
      "c:\\SMIT3.0\n"
     ]
    }
   ],
   "source": [
    "cd .."
   ]
  },
  {
   "cell_type": "code",
   "execution_count": 14,
   "metadata": {},
   "outputs": [],
   "source": [
    "from deep_translator import GoogleTranslator               \n",
    "from app.Function import *                       \n",
    "import pandas as pd                                        \n",
    "import pyodbc                                              \n",
    "import re                                                  \n",
    "from sentence_transformers import SentenceTransformer, util"
   ]
  },
  {
   "cell_type": "code",
   "execution_count": 19,
   "metadata": {},
   "outputs": [
    {
     "name": "stderr",
     "output_type": "stream",
     "text": [
      "C:\\Users\\User\\AppData\\Local\\Packages\\PythonSoftwareFoundation.Python.3.10_qbz5n2kfra8p0\\LocalCache\\local-packages\\Python310\\site-packages\\pandas\\io\\sql.py:758: UserWarning: pandas only support SQLAlchemy connectable(engine/connection) ordatabase string URI or sqlite3 DBAPI2 connectionother DBAPI2 objects are not tested, please consider using SQLAlchemy\n",
      "  warnings.warn(\n"
     ]
    }
   ],
   "source": [
    "modelPath = \"./Model/SentenceTransformer\"\n",
    "\n",
    "model = SentenceTransformer(modelPath)\n",
    "\n",
    "TotalData = (pd.read_csv('./SMIT_Data/TotalData.csv', encoding='utf-8'))\n",
    "\n",
    "TotalOldClassification_Finding = TotalData['Old'].tolist()[0]\n",
    "TotalLatestClassification_Finding = TotalData['Latest'].tolist()[0]\n",
    "\n",
    "TotalOldAllRecord = TotalData['Old'].tolist()[1]\n",
    "\n",
    "FindingDetails = pd.read_csv(\"./SMIT_Data/AllRawSafetyAudit.csv\", encoding='utf-8')\n",
    "\n",
    "SA_FindingNo = FindingDetails['FindingNo'].tolist()\n",
    "SA_FindingNo = [\"-\" if pd.isnull(x) else x for x in SA_FindingNo]\n",
    "\n",
    "SA_Area = FindingDetails['Area'].tolist()\n",
    "SA_Area = [\"-\" if pd.isnull(x) else x for x in SA_Area]\n",
    "\n",
    "SA_SubArea = FindingDetails['SubArea'].tolist()\n",
    "SA_SubArea = [\"-\" if pd.isnull(x) else x for x in SA_SubArea]\n",
    "\n",
    "SA_Contractor = FindingDetails['Contractor'].tolist()\n",
    "SA_Contractor = [\"-\" if pd.isnull(x) else x for x in SA_Contractor]\n",
    "\n",
    "SA_Tof = FindingDetails['TypeOfFinding'].tolist()\n",
    "SA_Tof = [\"-\" if pd.isnull(x) else x for x in SA_Tof]\n",
    "\n",
    "SA_Topic = FindingDetails['Topic'].tolist()\n",
    "SA_Topic = [\"-\" if pd.isnull(x) else x for x in SA_Topic]\n",
    "\n",
    "SA_Details = FindingDetails['Details'].tolist()\n",
    "SA_Details = [\"-\" if pd.isnull(x) else x for x in SA_Details]\n",
    "\n",
    "SA_CleansingDetails = FindingDetails['CleansingDetails'].tolist()\n",
    "SA_CleansingDetails = [\"-\" if pd.isnull(x) else x for x in SA_CleansingDetails]\n",
    "\n",
    "SA_TranslateDetails = FindingDetails['TransCleansingDetails'].tolist()\n",
    "SA_TranslateDetails = [\"-\" if pd.isnull(x) else x for x in SA_TranslateDetails]\n",
    "# ------------------------------------------------------------------- #\n",
    "\n",
    "connect_db = pyodbc.connect(Driver = \"ODBC Driver 17 for SQL Server\",\n",
    "                            Server = \"smitazure.database.windows.net\",\n",
    "                            Database = \"SMIT3\",\n",
    "                            uid = 'smitadmin',\n",
    "                            pwd = 'Abc12345',\n",
    "                            Trusted_Connection = 'no')   \n",
    "\n",
    "cursor = connect_db.cursor()\n",
    "\n",
    "Classification_TbFinding = pd.read_sql(\"SELECT * FROM [Classification_TbFinding] WHERE FindingNo > \"+str(TotalOldClassification_Finding), connect_db)\n",
    "\n",
    "CTB_Area = Classification_TbFinding['Area'].tolist()\n",
    "CTB_Area = [\"-\" if pd.isnull(x) else x for x in CTB_Area]\n",
    "\n",
    "CTB_SubArea = Classification_TbFinding['SubArea'].tolist()\n",
    "CTB_SubArea = [\"-\" if pd.isnull(x) else x for x in CTB_SubArea]\n",
    "\n",
    "CTB_Contractor = Classification_TbFinding['Contractor'].tolist()\n",
    "CTB_Contractor = [\"-\" if pd.isnull(x) else x for x in CTB_Contractor]\n",
    "\n",
    "CTB_Tof = Classification_TbFinding['TypeOfFinding'].tolist()\n",
    "CTB_Tof = [\"-\" if pd.isnull(x) else x for x in CTB_Tof]\n",
    "\n",
    "CTB_Topic = Classification_TbFinding['Topic'].tolist()\n",
    "CTB_Topic = [\"-\" if pd.isnull(x) else x for x in CTB_Topic]\n",
    "\n",
    "CTB_Details = Classification_TbFinding['Details'].tolist()\n",
    "CTB_Details = [\"-\" if pd.isnull(x) else x for x in CTB_Details]\n",
    "\n",
    "CTB_Finding = Classification_TbFinding['Finding'].tolist()\n",
    "CTB_Finding = [\"-\" if pd.isnull(x) else x for x in CTB_Finding]\n",
    "\n",
    "CTB_TranslateFinding = Classification_TbFinding['TranslateFinding'].tolist()\n",
    "CTB_TranslateFinding = [\"-\" if pd.isnull(x) else x for x in CTB_TranslateFinding]\n",
    "\n",
    "# ------------------------------------------------------------------- #\n",
    "\n",
    "# DataSize = len(CTB_Details)+len(SA_Details)\n",
    "\n",
    "# Data_FindingNo = [i for i in range(TotalOldAllRecord+1, \n",
    "#                                     TotalOldAllRecord+DataSize+1)]\n",
    "\n",
    "# Data_Area = CTB_Area+SA_Area\n",
    "\n",
    "# Data_SubArea = CTB_SubArea+SA_SubArea\n",
    "\n",
    "# Data_Contractor = CTB_Contractor+SA_Contractor\n",
    "\n",
    "# Data_Tof = CTB_Tof+SA_Tof\n",
    "\n",
    "# Data_Topic = CTB_Topic+SA_Topic\n",
    "\n",
    "# Data_Details = CTB_Finding+SA_Details\n",
    "# ------------------------------------------------------------------- #\n",
    "\n",
    "DataSize = len(CTB_Details)\n",
    "\n",
    "Data_FindingNo = [i for i in range(TotalOldAllRecord+1, \n",
    "                                    TotalOldAllRecord+DataSize+1)]\n",
    "\n",
    "Data_Area = CTB_Area\n",
    "\n",
    "Data_SubArea = CTB_SubArea\n",
    "\n",
    "Data_Contractor = CTB_Contractor\n",
    "\n",
    "Data_Tof = CTB_Tof\n",
    "\n",
    "Data_Topic = CTB_Topic\n",
    "\n",
    "Data_Details = CTB_Finding"
   ]
  },
  {
   "cell_type": "code",
   "execution_count": 20,
   "metadata": {},
   "outputs": [
    {
     "name": "stdout",
     "output_type": "stream",
     "text": [
      "3537\n"
     ]
    }
   ],
   "source": [
    "print(DataSize)"
   ]
  },
  {
   "cell_type": "code",
   "execution_count": 21,
   "metadata": {},
   "outputs": [
    {
     "name": "stdout",
     "output_type": "stream",
     "text": [
      "0\n",
      "100\n",
      "200\n",
      "300\n",
      "400\n",
      "500\n",
      "600\n",
      "700\n",
      "800\n",
      "900\n",
      "1000\n",
      "1100\n",
      "1200\n",
      "1300\n",
      "1400\n",
      "1500\n",
      "1600\n",
      "1700\n",
      "1800\n",
      "1900\n",
      "2000\n",
      "2100\n",
      "2200\n",
      "2300\n",
      "2400\n",
      "2500\n",
      "2600\n",
      "2700\n",
      "2800\n",
      "2900\n",
      "3000\n",
      "3100\n",
      "3200\n",
      "3300\n",
      "3400\n",
      "3500\n"
     ]
    }
   ],
   "source": [
    "Data_TransDetails = []\n",
    "Data_CleansingDetails = []\n",
    "\n",
    "for i in range(len(Data_Details)):\n",
    "  ResponseSpellCheck = Cleansing_Input(Data_Details[i], 2)\n",
    "  Data_CleansingDetails.append(ResponseSpellCheck['Collected_Input'])\n",
    "  Data_TransDetails.append(GoogleTranslator(source='auto', target='en').translate(ResponseSpellCheck['Collected_Input']))\n",
    "  if (i % 100) == 0:\n",
    "    print(i)"
   ]
  },
  {
   "cell_type": "code",
   "execution_count": 22,
   "metadata": {},
   "outputs": [],
   "source": [
    "Data_FindingNo = sorted(Data_FindingNo, reverse=False)\n",
    "Data_Area = [frequency for _, frequency in sorted(zip(Data_FindingNo, Data_Area), reverse=False)]\n",
    "Data_SubArea = [frequency for _, frequency in sorted(zip(Data_FindingNo, Data_SubArea), reverse=False)]\n",
    "Data_Contractor = [frequency for _, frequency in sorted(zip(Data_FindingNo, Data_Contractor), reverse=False)]\n",
    "Data_Tof = [frequency for _, frequency in sorted(zip(Data_FindingNo, Data_Tof), reverse=False)]\n",
    "Data_Topic = [frequency for _, frequency in sorted(zip(Data_FindingNo, Data_Topic), reverse=False)]\n",
    "Data_Details = [frequency for _, frequency in sorted(zip(Data_FindingNo, Data_Details), reverse=False)]\n",
    "Data_CleansingDetails = [frequency for _, frequency in sorted(zip(Data_FindingNo, Data_CleansingDetails), reverse=False)]\n",
    "Data_TransDetails = [frequency for _, frequency in sorted(zip(Data_FindingNo, Data_TransDetails), reverse=False)]"
   ]
  },
  {
   "cell_type": "code",
   "execution_count": 23,
   "metadata": {},
   "outputs": [
    {
     "data": {
      "text/plain": [
       "862"
      ]
     },
     "execution_count": 23,
     "metadata": {},
     "output_type": "execute_result"
    }
   ],
   "source": [
    "len(CTB_Contractor)"
   ]
  },
  {
   "cell_type": "code",
   "execution_count": 24,
   "metadata": {},
   "outputs": [],
   "source": [
    "import csv\n",
    "\n",
    "Translate_Cleansing_Safety_Audit = []\n",
    "\n",
    "connect_db = pyodbc.connect(Driver = \"ODBC Driver 17 for SQL Server\",\n",
    "                            Server = \"smitazure.database.windows.net\",\n",
    "                            Database = \"SMIT3\",\n",
    "                            uid = 'smitadmin',\n",
    "                            pwd = 'Abc12345',\n",
    "                            Trusted_Connection = 'no')    \n",
    "\n",
    "NewSafetyAuditData = list(zip(Data_FindingNo, Data_Area, Data_SubArea, \n",
    "                                Data_Contractor, Data_Tof, Data_Topic,\n",
    "                                Data_Details, Data_CleansingDetails, Data_TransDetails))\n",
    "\n",
    "if len(NewSafetyAuditData) > 0: \n",
    "    cursor = connect_db.cursor()\n",
    "    Query = \"INSERT INTO [Cleansing_FindingDetails] VALUES (?, ?, ?, ?, ?, ?, ?, ?, ?)\"\n",
    "    cursor.executemany(Query, NewSafetyAuditData)\n",
    "    connect_db.commit()"
   ]
  },
  {
   "cell_type": "code",
   "execution_count": 28,
   "metadata": {},
   "outputs": [],
   "source": [
    "TotalData = (pd.read_csv('./SMIT_Data/TotalData.csv', encoding='utf-8'))\n",
    "Classfication_TbFindingLatestDate = TotalData['LatestDate'].tolist()[0]\n",
    "TotalOldClassification_Finding = TotalData['Latest'].tolist()[0]\n",
    "TotalOldAllRecord = DataSize\n",
    "\n",
    "Head = ['Source', 'LatestDate', 'Old', 'Latest']\n",
    "\n",
    "UpdateSize = [\n",
    "               ['Classfication_TbFinding', Classfication_TbFindingLatestDate, TotalOldClassification_Finding, TotalOldClassification_Finding],\n",
    "               ['All Record', '-', TotalOldAllRecord, '-']\n",
    "            ] \n",
    "   \n",
    "with open('./SMIT_Data/TotalData.csv', 'w', newline='', encoding=\"utf-8\") as f:\n",
    "    write = csv.writer(f)\n",
    "    write.writerow(Head)\n",
    "    write.writerows(UpdateSize)"
   ]
  }
 ],
 "metadata": {
  "kernelspec": {
   "display_name": "Python 3.10.8 64-bit (microsoft store)",
   "language": "python",
   "name": "python3"
  },
  "language_info": {
   "codemirror_mode": {
    "name": "ipython",
    "version": 3
   },
   "file_extension": ".py",
   "mimetype": "text/x-python",
   "name": "python",
   "nbconvert_exporter": "python",
   "pygments_lexer": "ipython3",
   "version": "3.10.8"
  },
  "orig_nbformat": 4,
  "vscode": {
   "interpreter": {
    "hash": "3b7e9cb8e453d6cda0fe8c8dd13f891a1f09162f0e7c66ffeae7751a7aecf00d"
   }
  }
 },
 "nbformat": 4,
 "nbformat_minor": 2
}
